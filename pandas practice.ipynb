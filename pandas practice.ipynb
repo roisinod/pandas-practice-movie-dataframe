{
 "cells": [
  {
   "cell_type": "code",
   "execution_count": 39,
   "metadata": {},
   "outputs": [],
   "source": [
    "import pandas as pd"
   ]
  },
  {
   "cell_type": "code",
   "execution_count": 40,
   "metadata": {},
   "outputs": [],
   "source": [
    "df = pd.read_csv('ratings.csv')\n"
   ]
  },
  {
   "cell_type": "code",
   "execution_count": 41,
   "metadata": {},
   "outputs": [
    {
     "data": {
      "text/html": [
       "<div>\n",
       "<style scoped>\n",
       "    .dataframe tbody tr th:only-of-type {\n",
       "        vertical-align: middle;\n",
       "    }\n",
       "\n",
       "    .dataframe tbody tr th {\n",
       "        vertical-align: top;\n",
       "    }\n",
       "\n",
       "    .dataframe thead th {\n",
       "        text-align: right;\n",
       "    }\n",
       "</style>\n",
       "<table border=\"1\" class=\"dataframe\">\n",
       "  <thead>\n",
       "    <tr style=\"text-align: right;\">\n",
       "      <th></th>\n",
       "      <th>userId</th>\n",
       "      <th>movieId</th>\n",
       "      <th>rating</th>\n",
       "      <th>timestamp</th>\n",
       "    </tr>\n",
       "  </thead>\n",
       "  <tbody>\n",
       "    <tr>\n",
       "      <th>0</th>\n",
       "      <td>1</td>\n",
       "      <td>16</td>\n",
       "      <td>4.0</td>\n",
       "      <td>1217897793</td>\n",
       "    </tr>\n",
       "    <tr>\n",
       "      <th>1</th>\n",
       "      <td>1</td>\n",
       "      <td>24</td>\n",
       "      <td>1.5</td>\n",
       "      <td>1217895807</td>\n",
       "    </tr>\n",
       "    <tr>\n",
       "      <th>2</th>\n",
       "      <td>1</td>\n",
       "      <td>32</td>\n",
       "      <td>4.0</td>\n",
       "      <td>1217896246</td>\n",
       "    </tr>\n",
       "    <tr>\n",
       "      <th>3</th>\n",
       "      <td>1</td>\n",
       "      <td>47</td>\n",
       "      <td>4.0</td>\n",
       "      <td>1217896556</td>\n",
       "    </tr>\n",
       "    <tr>\n",
       "      <th>4</th>\n",
       "      <td>1</td>\n",
       "      <td>50</td>\n",
       "      <td>4.0</td>\n",
       "      <td>1217896523</td>\n",
       "    </tr>\n",
       "  </tbody>\n",
       "</table>\n",
       "</div>"
      ],
      "text/plain": [
       "   userId  movieId  rating   timestamp\n",
       "0       1       16     4.0  1217897793\n",
       "1       1       24     1.5  1217895807\n",
       "2       1       32     4.0  1217896246\n",
       "3       1       47     4.0  1217896556\n",
       "4       1       50     4.0  1217896523"
      ]
     },
     "execution_count": 41,
     "metadata": {},
     "output_type": "execute_result"
    }
   ],
   "source": [
    "df.head()"
   ]
  },
  {
   "cell_type": "code",
   "execution_count": 47,
   "metadata": {},
   "outputs": [],
   "source": [
    "df2 = pd.read_csv('movies.csv')"
   ]
  },
  {
   "cell_type": "code",
   "execution_count": 48,
   "metadata": {},
   "outputs": [
    {
     "data": {
      "text/html": [
       "<div>\n",
       "<style scoped>\n",
       "    .dataframe tbody tr th:only-of-type {\n",
       "        vertical-align: middle;\n",
       "    }\n",
       "\n",
       "    .dataframe tbody tr th {\n",
       "        vertical-align: top;\n",
       "    }\n",
       "\n",
       "    .dataframe thead th {\n",
       "        text-align: right;\n",
       "    }\n",
       "</style>\n",
       "<table border=\"1\" class=\"dataframe\">\n",
       "  <thead>\n",
       "    <tr style=\"text-align: right;\">\n",
       "      <th></th>\n",
       "      <th>userId</th>\n",
       "      <th>movieId</th>\n",
       "      <th>rating</th>\n",
       "      <th>timestamp</th>\n",
       "    </tr>\n",
       "  </thead>\n",
       "  <tbody>\n",
       "    <tr>\n",
       "      <th>0</th>\n",
       "      <td>668</td>\n",
       "      <td>296</td>\n",
       "      <td>4.0</td>\n",
       "      <td>830280893</td>\n",
       "    </tr>\n",
       "  </tbody>\n",
       "</table>\n",
       "</div>"
      ],
      "text/plain": [
       "   userId  movieId  rating  timestamp\n",
       "0     668      296     4.0  830280893"
      ]
     },
     "execution_count": 48,
     "metadata": {},
     "output_type": "execute_result"
    }
   ],
   "source": [
    "#most reviewed\n",
    "#find the most reviewed item\n",
    "df.mode()\n",
    "#match it's number to df2"
   ]
  },
  {
   "cell_type": "code",
   "execution_count": 60,
   "metadata": {},
   "outputs": [
    {
     "data": {
      "text/plain": [
       "260    Pulp Fiction (1994)\n",
       "Name: title, dtype: object"
      ]
     },
     "execution_count": 60,
     "metadata": {},
     "output_type": "execute_result"
    }
   ],
   "source": [
    "df2[df2['movieId'] == 296]['title']"
   ]
  },
  {
   "cell_type": "code",
   "execution_count": 68,
   "metadata": {},
   "outputs": [],
   "source": [
    "#count the number of times Pulp fiction is reviewed"
   ]
  },
  {
   "cell_type": "code",
   "execution_count": 72,
   "metadata": {},
   "outputs": [
    {
     "name": "stdout",
     "output_type": "stream",
     "text": [
      "       userId  movieId  rating   timestamp\n",
      "15          1      296     4.0  1217896125\n",
      "166         3      296     5.0   841483462\n",
      "220         4      296     4.0   950323526\n",
      "479         7      296     3.5  1322062749\n",
      "730         9      296     5.0   842686221\n",
      "1002       15      296     5.0  1447478367\n",
      "1096       16      296     3.0   842888066\n",
      "1159       17      296     4.0  1350206808\n",
      "1299       18      296     4.5  1107371979\n",
      "1542       21      296     4.0  1428094744\n",
      "1653       22      296     4.0  1111574860\n",
      "1916       24      296     4.0   963471080\n",
      "2592       29      296     4.0   836229707\n",
      "2882       31      296     3.0   832397389\n",
      "3435       38      296     3.5  1406486882\n",
      "3791       39      296     5.0  1001785596\n",
      "3849       41      296     4.0  1067132190\n",
      "3948       42      296     2.0  1399110681\n",
      "4045       44      296     4.0  1225240024\n",
      "4245       45      296     4.5  1149373761\n",
      "4310       46      296     5.0   954566960\n",
      "4421       47      296     5.0   841750319\n",
      "4524       50      296     2.0   904745372\n",
      "4642       51      296     3.0   836242003\n",
      "5020       57      296     4.5  1299381835\n",
      "5387       61      296     4.5  1058834091\n",
      "5604       62      296     5.0  1267493112\n",
      "6594       63      296     3.5  1299477263\n",
      "7798       66      296     4.0   961685333\n",
      "8198       69      296     5.0  1121089357\n",
      "...       ...      ...     ...         ...\n",
      "89791     600      296     3.0  1018672144\n",
      "90324     601      296     3.0   938941890\n",
      "90653     603      296     3.0   857568388\n",
      "90891     604      296     5.0  1448883076\n",
      "90971     605      296     5.0   954089270\n",
      "91554     607      296     3.0   977941448\n",
      "92846     611      296     4.0  1368127460\n",
      "93085     613      296     4.0   830716695\n",
      "93128     614      296     4.5  1415079677\n",
      "93323     615      296     5.0   955126018\n",
      "93704     616      296     5.0  1259908768\n",
      "94623     623      296     3.0   836685930\n",
      "94700     625      296     3.0  1085175722\n",
      "94938     627      296     5.0  1237930501\n",
      "95952     628      296     4.0  1112468070\n",
      "96181     630      296     5.0   836085135\n",
      "96205     631      296     5.0   943354384\n",
      "96253     632      296     4.0  1388949621\n",
      "96417     633      296     5.0  1134970923\n",
      "96654     636      296     4.0   939631789\n",
      "97027     642      296     3.5  1439773970\n",
      "97224     643      296     5.0  1300442707\n",
      "98105     653      296     5.0   829072857\n",
      "98119     654      296     3.0   833384003\n",
      "98309     656      296     5.0   838777398\n",
      "99041     663      296     5.0   851580292\n",
      "99142     665      296     4.0  1231676885\n",
      "99373     666      296     5.0  1021279612\n",
      "99593     667      296     4.5  1082552445\n",
      "99791     668      296     4.0  1025860167\n",
      "\n",
      "[325 rows x 4 columns]\n"
     ]
    }
   ],
   "source": [
    "print(df[df.movieId == 296])"
   ]
  },
  {
   "cell_type": "code",
   "execution_count": 71,
   "metadata": {},
   "outputs": [
    {
     "name": "stdout",
     "output_type": "stream",
     "text": [
      "userId       325\n",
      "movieId      325\n",
      "rating       325\n",
      "timestamp    325\n",
      "dtype: int64\n"
     ]
    }
   ],
   "source": [
    "print(df[df.movieId == 296].count())"
   ]
  },
  {
   "cell_type": "code",
   "execution_count": 73,
   "metadata": {},
   "outputs": [
    {
     "name": "stdout",
     "output_type": "stream",
     "text": [
      "userId               1.0\n",
      "movieId              1.0\n",
      "rating               0.5\n",
      "timestamp    828564954.0\n",
      "dtype: float64\n"
     ]
    }
   ],
   "source": [
    "#movies that have the lowest reviews\n",
    "print(df.min())"
   ]
  },
  {
   "cell_type": "code",
   "execution_count": 75,
   "metadata": {},
   "outputs": [
    {
     "name": "stdout",
     "output_type": "stream",
     "text": [
      "      userId  movieId  rating   timestamp\n",
      "0       62.0    256.0     0.5  1053358948\n",
      "1        NaN    344.0     NaN  1054101321\n",
      "2        NaN      NaN     NaN  1054101356\n",
      "3        NaN      NaN     NaN  1055387277\n",
      "4        NaN      NaN     NaN  1056440008\n",
      "5        NaN      NaN     NaN  1056440363\n",
      "6        NaN      NaN     NaN  1056713130\n",
      "7        NaN      NaN     NaN  1057371776\n",
      "8        NaN      NaN     NaN  1057372794\n",
      "9        NaN      NaN     NaN  1059023426\n",
      "10       NaN      NaN     NaN  1059070324\n",
      "11       NaN      NaN     NaN  1059070600\n",
      "12       NaN      NaN     NaN  1059599663\n",
      "13       NaN      NaN     NaN  1060904463\n",
      "14       NaN      NaN     NaN  1061950794\n",
      "15       NaN      NaN     NaN  1061951067\n",
      "16       NaN      NaN     NaN  1061951624\n",
      "17       NaN      NaN     NaN  1061951682\n",
      "18       NaN      NaN     NaN  1061951684\n",
      "19       NaN      NaN     NaN  1061951696\n",
      "20       NaN      NaN     NaN  1061951706\n",
      "21       NaN      NaN     NaN  1062618238\n",
      "22       NaN      NaN     NaN  1062892116\n",
      "23       NaN      NaN     NaN  1062892206\n",
      "24       NaN      NaN     NaN  1062892267\n",
      "25       NaN      NaN     NaN  1062893171\n",
      "26       NaN      NaN     NaN  1062893240\n",
      "27       NaN      NaN     NaN  1062893548\n",
      "28       NaN      NaN     NaN  1062893802\n",
      "29       NaN      NaN     NaN  1062894391\n",
      "...      ...      ...     ...         ...\n",
      "1168     NaN      NaN     NaN  1444769610\n",
      "1169     NaN      NaN     NaN  1444769794\n",
      "1170     NaN      NaN     NaN  1444769812\n",
      "1171     NaN      NaN     NaN  1444769990\n",
      "1172     NaN      NaN     NaN  1444777152\n",
      "1173     NaN      NaN     NaN  1444777161\n",
      "1174     NaN      NaN     NaN  1445823078\n",
      "1175     NaN      NaN     NaN  1446385996\n",
      "1176     NaN      NaN     NaN  1446386006\n",
      "1177     NaN      NaN     NaN  1446386008\n",
      "1178     NaN      NaN     NaN  1446444527\n",
      "1179     NaN      NaN     NaN  1446670832\n",
      "1180     NaN      NaN     NaN  1446671089\n",
      "1181     NaN      NaN     NaN  1446671229\n",
      "1182     NaN      NaN     NaN  1446788053\n",
      "1183     NaN      NaN     NaN  1446788091\n",
      "1184     NaN      NaN     NaN  1446919001\n",
      "1185     NaN      NaN     NaN  1446919190\n",
      "1186     NaN      NaN     NaN  1448040247\n",
      "1187     NaN      NaN     NaN  1448040869\n",
      "1188     NaN      NaN     NaN  1448041213\n",
      "1189     NaN      NaN     NaN  1448041572\n",
      "1190     NaN      NaN     NaN  1449332320\n",
      "1191     NaN      NaN     NaN  1449799593\n",
      "1192     NaN      NaN     NaN  1449947417\n",
      "1193     NaN      NaN     NaN  1451122496\n",
      "1194     NaN      NaN     NaN  1451122753\n",
      "1195     NaN      NaN     NaN  1451230965\n",
      "1196     NaN      NaN     NaN  1452132386\n",
      "1197     NaN      NaN     NaN  1452132508\n",
      "\n",
      "[1198 rows x 4 columns]\n"
     ]
    }
   ],
   "source": [
    "print(df[df.rating == 0.5].mode())\n",
    "#most common is 256 and 344"
   ]
  },
  {
   "cell_type": "code",
   "execution_count": 76,
   "metadata": {},
   "outputs": [
    {
     "data": {
      "text/plain": [
       "226    Junior (1994)\n",
       "Name: title, dtype: object"
      ]
     },
     "execution_count": 76,
     "metadata": {},
     "output_type": "execute_result"
    }
   ],
   "source": [
    "df2[df2['movieId'] == 256]['title']"
   ]
  },
  {
   "cell_type": "code",
   "execution_count": 77,
   "metadata": {},
   "outputs": [
    {
     "data": {
      "text/plain": [
       "304    Ace Ventura: Pet Detective (1994)\n",
       "Name: title, dtype: object"
      ]
     },
     "execution_count": 77,
     "metadata": {},
     "output_type": "execute_result"
    }
   ],
   "source": [
    "df2[df2['movieId'] == 344]['title']"
   ]
  },
  {
   "cell_type": "code",
   "execution_count": 78,
   "metadata": {},
   "outputs": [],
   "source": [
    "#everything all results are from 1994 - could suggest person who selected database had a bias to this time"
   ]
  },
  {
   "cell_type": "code",
   "execution_count": 82,
   "metadata": {
    "scrolled": true
   },
   "outputs": [
    {
     "name": "stdout",
     "output_type": "stream",
     "text": [
      "       userId  movieId  rating   timestamp\n",
      "11          1      256     0.5  1217895764\n",
      "5595       62      256     0.5  1267576901\n",
      "52939     386      256     0.5  1223146530\n",
      "56945     410      256     0.5  1133463044\n",
      "68307     463      256     0.5  1274470265\n",
      "80881     567      256     0.5  1129523019\n",
      "98381     657      256     0.5  1243036724\n",
      "userId       7\n",
      "movieId      7\n",
      "rating       7\n",
      "timestamp    7\n",
      "dtype: int64\n"
     ]
    }
   ],
   "source": [
    "print(df[(df['movieId'] == 256) & (df['rating'] == 0.5)])\n",
    "print(df[(df['movieId'] == 256) & (df['rating'] == 0.5)].count())"
   ]
  },
  {
   "cell_type": "code",
   "execution_count": 84,
   "metadata": {},
   "outputs": [
    {
     "name": "stdout",
     "output_type": "stream",
     "text": [
      "       userId  movieId  rating   timestamp\n",
      "5615       62      344     0.5  1267425570\n",
      "7675       64      344     0.5  1193288798\n",
      "8955       74      344     0.5  1112225102\n",
      "46570     331      344     0.5  1138986602\n",
      "49058     354      344     0.5  1109700949\n",
      "60152     425      344     0.5  1077475392\n",
      "82476     574      344     0.5  1257553619\n",
      "userId       7\n",
      "movieId      7\n",
      "rating       7\n",
      "timestamp    7\n",
      "dtype: int64\n"
     ]
    }
   ],
   "source": [
    "print(df[(df['movieId'] == 344) & (df['rating'] == 0.5)])\n",
    "print(df[(df['movieId'] == 344) & (df['rating'] == 0.5)].count())"
   ]
  },
  {
   "cell_type": "code",
   "execution_count": 86,
   "metadata": {},
   "outputs": [
    {
     "name": "stdout",
     "output_type": "stream",
     "text": [
      "0    668\n",
      "dtype: int64\n"
     ]
    }
   ],
   "source": [
    "#what user is reviewing the most\n",
    "print(df['userId'].mode())"
   ]
  },
  {
   "cell_type": "code",
   "execution_count": 99,
   "metadata": {},
   "outputs": [
    {
     "name": "stdout",
     "output_type": "stream",
     "text": [
      "userId       5678\n",
      "movieId      5678\n",
      "rating       5678\n",
      "timestamp    5678\n",
      "dtype: int64\n"
     ]
    }
   ],
   "source": [
    "#print(df['userId'] == 668)\n",
    "print(df[df.userId == 668].count())"
   ]
  },
  {
   "cell_type": "code",
   "execution_count": null,
   "metadata": {},
   "outputs": [],
   "source": [
    "print(df[df.movieId == 668][T])\n",
    "#WHAT MOVIES IS HE WATCHING"
   ]
  }
 ],
 "metadata": {
  "kernelspec": {
   "display_name": "Python 3",
   "language": "python",
   "name": "python3"
  },
  "language_info": {
   "codemirror_mode": {
    "name": "ipython",
    "version": 3
   },
   "file_extension": ".py",
   "mimetype": "text/x-python",
   "name": "python",
   "nbconvert_exporter": "python",
   "pygments_lexer": "ipython3",
   "version": "3.7.3"
  },
  "varInspector": {
   "cols": {
    "lenName": 16,
    "lenType": 16,
    "lenVar": 40
   },
   "kernels_config": {
    "python": {
     "delete_cmd_postfix": "",
     "delete_cmd_prefix": "del ",
     "library": "var_list.py",
     "varRefreshCmd": "print(var_dic_list())"
    },
    "r": {
     "delete_cmd_postfix": ") ",
     "delete_cmd_prefix": "rm(",
     "library": "var_list.r",
     "varRefreshCmd": "cat(var_dic_list()) "
    }
   },
   "types_to_exclude": [
    "module",
    "function",
    "builtin_function_or_method",
    "instance",
    "_Feature"
   ],
   "window_display": false
  }
 },
 "nbformat": 4,
 "nbformat_minor": 2
}
